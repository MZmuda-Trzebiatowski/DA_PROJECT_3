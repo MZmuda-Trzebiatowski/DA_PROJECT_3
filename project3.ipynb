{
 "cells": [
  {
   "cell_type": "markdown",
   "metadata": {},
   "source": [
    "# Project 3"
   ]
  },
  {
   "cell_type": "code",
   "execution_count": 23,
   "metadata": {},
   "outputs": [],
   "source": [
    "import pandas as pd\n",
    "from sklearn.model_selection import train_test_split\n",
    "from sklearn.linear_model import LogisticRegression\n",
    "from sklearn.metrics import accuracy_score, classification_report, roc_auc_score\n",
    "import seaborn as sns\n",
    "import matplotlib.pyplot as plt "
   ]
  },
  {
   "cell_type": "markdown",
   "metadata": {},
   "source": [
    "## Dataset"
   ]
  },
  {
   "cell_type": "markdown",
   "metadata": {},
   "source": [
    "The dataset consists of 278 alternatives each consisting of 7 continous criterion that range from 0 to 1, and class, either 1 or 2<br><br>\n",
    "**IMPORTANT NOTE**<br>\n",
    "We changed class 'labels' from 1 and 2 to 0 and 1 respectievly, due to explainerdashboard limitation."
   ]
  },
  {
   "cell_type": "code",
   "execution_count": 24,
   "metadata": {},
   "outputs": [
    {
     "data": {
      "text/html": [
       "<div>\n",
       "<style scoped>\n",
       "    .dataframe tbody tr th:only-of-type {\n",
       "        vertical-align: middle;\n",
       "    }\n",
       "\n",
       "    .dataframe tbody tr th {\n",
       "        vertical-align: top;\n",
       "    }\n",
       "\n",
       "    .dataframe thead th {\n",
       "        text-align: right;\n",
       "    }\n",
       "</style>\n",
       "<table border=\"1\" class=\"dataframe\">\n",
       "  <thead>\n",
       "    <tr style=\"text-align: right;\">\n",
       "      <th></th>\n",
       "      <th>A</th>\n",
       "      <th>B</th>\n",
       "      <th>C</th>\n",
       "      <th>D</th>\n",
       "      <th>E</th>\n",
       "      <th>F</th>\n",
       "      <th>G</th>\n",
       "      <th>class</th>\n",
       "    </tr>\n",
       "  </thead>\n",
       "  <tbody>\n",
       "    <tr>\n",
       "      <th>0</th>\n",
       "      <td>1.0</td>\n",
       "      <td>0.500000</td>\n",
       "      <td>0.000</td>\n",
       "      <td>1.0</td>\n",
       "      <td>1.0</td>\n",
       "      <td>1.0</td>\n",
       "      <td>0.0</td>\n",
       "      <td>1.0</td>\n",
       "    </tr>\n",
       "    <tr>\n",
       "      <th>1</th>\n",
       "      <td>0.5</td>\n",
       "      <td>0.500000</td>\n",
       "      <td>0.000</td>\n",
       "      <td>0.0</td>\n",
       "      <td>0.0</td>\n",
       "      <td>1.0</td>\n",
       "      <td>0.0</td>\n",
       "      <td>0.0</td>\n",
       "    </tr>\n",
       "    <tr>\n",
       "      <th>2</th>\n",
       "      <td>0.5</td>\n",
       "      <td>0.833333</td>\n",
       "      <td>0.000</td>\n",
       "      <td>0.0</td>\n",
       "      <td>0.5</td>\n",
       "      <td>0.0</td>\n",
       "      <td>0.0</td>\n",
       "      <td>1.0</td>\n",
       "    </tr>\n",
       "    <tr>\n",
       "      <th>3</th>\n",
       "      <td>1.0</td>\n",
       "      <td>0.833333</td>\n",
       "      <td>0.000</td>\n",
       "      <td>1.0</td>\n",
       "      <td>1.0</td>\n",
       "      <td>1.0</td>\n",
       "      <td>1.0</td>\n",
       "      <td>0.0</td>\n",
       "    </tr>\n",
       "    <tr>\n",
       "      <th>4</th>\n",
       "      <td>1.0</td>\n",
       "      <td>1.000000</td>\n",
       "      <td>0.125</td>\n",
       "      <td>1.0</td>\n",
       "      <td>0.5</td>\n",
       "      <td>0.0</td>\n",
       "      <td>0.0</td>\n",
       "      <td>1.0</td>\n",
       "    </tr>\n",
       "    <tr>\n",
       "      <th>...</th>\n",
       "      <td>...</td>\n",
       "      <td>...</td>\n",
       "      <td>...</td>\n",
       "      <td>...</td>\n",
       "      <td>...</td>\n",
       "      <td>...</td>\n",
       "      <td>...</td>\n",
       "      <td>...</td>\n",
       "    </tr>\n",
       "    <tr>\n",
       "      <th>273</th>\n",
       "      <td>0.5</td>\n",
       "      <td>1.000000</td>\n",
       "      <td>0.250</td>\n",
       "      <td>1.0</td>\n",
       "      <td>0.5</td>\n",
       "      <td>0.0</td>\n",
       "      <td>0.0</td>\n",
       "      <td>0.0</td>\n",
       "    </tr>\n",
       "    <tr>\n",
       "      <th>274</th>\n",
       "      <td>1.0</td>\n",
       "      <td>0.833333</td>\n",
       "      <td>0.125</td>\n",
       "      <td>1.0</td>\n",
       "      <td>0.5</td>\n",
       "      <td>0.0</td>\n",
       "      <td>1.0</td>\n",
       "      <td>0.0</td>\n",
       "    </tr>\n",
       "    <tr>\n",
       "      <th>275</th>\n",
       "      <td>1.0</td>\n",
       "      <td>1.000000</td>\n",
       "      <td>0.250</td>\n",
       "      <td>1.0</td>\n",
       "      <td>0.5</td>\n",
       "      <td>1.0</td>\n",
       "      <td>0.0</td>\n",
       "      <td>0.0</td>\n",
       "    </tr>\n",
       "    <tr>\n",
       "      <th>276</th>\n",
       "      <td>1.0</td>\n",
       "      <td>0.500000</td>\n",
       "      <td>0.000</td>\n",
       "      <td>0.0</td>\n",
       "      <td>0.5</td>\n",
       "      <td>1.0</td>\n",
       "      <td>0.0</td>\n",
       "      <td>0.0</td>\n",
       "    </tr>\n",
       "    <tr>\n",
       "      <th>277</th>\n",
       "      <td>0.5</td>\n",
       "      <td>0.666667</td>\n",
       "      <td>0.000</td>\n",
       "      <td>0.0</td>\n",
       "      <td>1.0</td>\n",
       "      <td>0.0</td>\n",
       "      <td>0.0</td>\n",
       "      <td>0.0</td>\n",
       "    </tr>\n",
       "  </tbody>\n",
       "</table>\n",
       "<p>278 rows × 8 columns</p>\n",
       "</div>"
      ],
      "text/plain": [
       "       A         B      C    D    E    F    G  class\n",
       "0    1.0  0.500000  0.000  1.0  1.0  1.0  0.0    1.0\n",
       "1    0.5  0.500000  0.000  0.0  0.0  1.0  0.0    0.0\n",
       "2    0.5  0.833333  0.000  0.0  0.5  0.0  0.0    1.0\n",
       "3    1.0  0.833333  0.000  1.0  1.0  1.0  1.0    0.0\n",
       "4    1.0  1.000000  0.125  1.0  0.5  0.0  0.0    1.0\n",
       "..   ...       ...    ...  ...  ...  ...  ...    ...\n",
       "273  0.5  1.000000  0.250  1.0  0.5  0.0  0.0    0.0\n",
       "274  1.0  0.833333  0.125  1.0  0.5  0.0  1.0    0.0\n",
       "275  1.0  1.000000  0.250  1.0  0.5  1.0  0.0    0.0\n",
       "276  1.0  0.500000  0.000  0.0  0.5  1.0  0.0    0.0\n",
       "277  0.5  0.666667  0.000  0.0  1.0  0.0  0.0    0.0\n",
       "\n",
       "[278 rows x 8 columns]"
      ]
     },
     "execution_count": 24,
     "metadata": {},
     "output_type": "execute_result"
    }
   ],
   "source": [
    "column_names = ['A', 'B', 'C', 'D', 'E', 'F', 'G', 'class']\n",
    "df = pd.read_csv('./monodata/breast_cancer.csv', header=None, names=column_names)\n",
    "df['class'] = df['class'] - 1\n",
    "df"
   ]
  },
  {
   "cell_type": "markdown",
   "metadata": {},
   "source": [
    "## Logistic Regression Model"
   ]
  },
  {
   "cell_type": "code",
   "execution_count": 25,
   "metadata": {},
   "outputs": [],
   "source": [
    "X = df.iloc[:, :-1]\n",
    "y = df['class']\n",
    "\n",
    "X_train, X_test, y_train, y_test = train_test_split(X, y, test_size=0.2, random_state=42)"
   ]
  },
  {
   "cell_type": "code",
   "execution_count": 26,
   "metadata": {},
   "outputs": [],
   "source": [
    "model = LogisticRegression()\n",
    "model.fit(X_train, y_train)\n",
    "\n",
    "y_pred = model.predict(X_test)"
   ]
  },
  {
   "cell_type": "code",
   "execution_count": 27,
   "metadata": {},
   "outputs": [
    {
     "name": "stdout",
     "output_type": "stream",
     "text": [
      "Accuracy: 0.7679\n"
     ]
    }
   ],
   "source": [
    "print(\"Accuracy:\", round(accuracy_score(y_test, y_pred), 4))"
   ]
  },
  {
   "cell_type": "code",
   "execution_count": 28,
   "metadata": {},
   "outputs": [
    {
     "name": "stdout",
     "output_type": "stream",
     "text": [
      "Classification Report:\n",
      "               precision    recall  f1-score   support\n",
      "\n",
      "         0.0       0.81      0.90      0.85        42\n",
      "         1.0       0.56      0.36      0.43        14\n",
      "\n",
      "    accuracy                           0.77        56\n",
      "   macro avg       0.68      0.63      0.64        56\n",
      "weighted avg       0.75      0.77      0.75        56\n",
      "\n"
     ]
    }
   ],
   "source": [
    "print(\"Classification Report:\\n\", classification_report(y_test, y_pred))"
   ]
  },
  {
   "cell_type": "markdown",
   "metadata": {},
   "source": [
    "![\"plot\"](./plots/conf_mat.png)"
   ]
  },
  {
   "cell_type": "code",
   "execution_count": 29,
   "metadata": {},
   "outputs": [
    {
     "name": "stdout",
     "output_type": "stream",
     "text": [
      "AUC Score: 0.7721\n"
     ]
    }
   ],
   "source": [
    "y_proba = model.predict_proba(X_test)[:, 1]  # Probability of class 1\n",
    "\n",
    "print(\"AUC Score:\", round(roc_auc_score(y_test, y_proba), 4))"
   ]
  },
  {
   "cell_type": "markdown",
   "metadata": {},
   "source": [
    "![\"plot\"](./plots/roc_acc.png)"
   ]
  },
  {
   "cell_type": "markdown",
   "metadata": {},
   "source": [
    "### Feature Importance"
   ]
  },
  {
   "cell_type": "markdown",
   "metadata": {},
   "source": [
    "![\"plot\"](./plots/feat_imp.png)"
   ]
  },
  {
   "cell_type": "markdown",
   "metadata": {},
   "source": [
    "## Sample 24"
   ]
  },
  {
   "cell_type": "markdown",
   "metadata": {},
   "source": [
    "![\"plot\"](./plots/pred_24.png)"
   ]
  },
  {
   "cell_type": "markdown",
   "metadata": {},
   "source": [
    "![\"plot\"](./plots/cont_24.png)"
   ]
  },
  {
   "cell_type": "markdown",
   "metadata": {},
   "source": [
    "We think that increasing the E value could result in the change of classification for this sample, because as we established before E has the highest feature importance and the the increase of E indicates class 1.<br><br>\n",
    "After increasing E even to it's maximal value = 1 (change of 0.5) We got: <br><br>\n",
    "![\"plot\"](./plots/24_init.png)<br><br>\n",
    "![\"plot\"](./plots/24_init_cont.png)"
   ]
  },
  {
   "cell_type": "markdown",
   "metadata": {},
   "source": [
    "As we can see the increase of E did bring it closer to being classified differently, but did need succeed, so we have to change a bit more. And since both of our most important features are already set to their max value we'll look towards the next most important feature which is A, by doing some experimenting we found that changing A's value from 0.5 to 0.8 (having the E value changed to 1) get's us a different classification. <br>So the final minimal changes are:<br>\n",
    "E = 1 (change of 0.5)<br>\n",
    "A = 0.8 (change of 0.3)<br><br>\n",
    "\n",
    "![\"plot\"](./plots/24_final.png)<br><br>\n",
    "![\"plot\"](./plots/24_final_cont.png)"
   ]
  },
  {
   "cell_type": "markdown",
   "metadata": {},
   "source": [
    "## Sample 237"
   ]
  },
  {
   "cell_type": "markdown",
   "metadata": {},
   "source": [
    "![\"plot\"](./plots/pred_237.png)"
   ]
  },
  {
   "cell_type": "markdown",
   "metadata": {},
   "source": [
    "![\"plot\"](./plots/cont_237.png)"
   ]
  },
  {
   "cell_type": "markdown",
   "metadata": {},
   "source": [
    "Sample 237 is very strongly classified as class 0 so the minimal changes will have to be substantial. Knowing the feature importance, we think that not only changing E's value is going to cut it, thus we are also going to change the D value. Let's set both of them to 1, according to our intuition and analysis it should be enough.<br>\n",
    "So:<br>\n",
    "E = 1 (change of 1)<br>\n",
    "D = 1 (change of 1)<br>Result in:<br>\n",
    "![\"plot\"](./plots/237_init.png)<br><br>\n",
    "![\"plot\"](./plots/237_init_cont.png)"
   ]
  },
  {
   "cell_type": "markdown",
   "metadata": {},
   "source": [
    "It worked! But obviously the change is not minimal, after some experimenting we found that:<br>\n",
    "E = 1 (change of 1)<br>\n",
    "D = 0.15 (change of 0.15)<br>Result in <br>\n",
    "![\"plot\"](./plots/24_final.png)<br><br>\n",
    "![\"plot\"](./plots/24_final_cont.png)"
   ]
  },
  {
   "cell_type": "markdown",
   "metadata": {},
   "source": [
    "## Sample 45"
   ]
  },
  {
   "cell_type": "markdown",
   "metadata": {},
   "source": [
    "![\"plot\"](./plots/pred_45.png)"
   ]
  },
  {
   "cell_type": "markdown",
   "metadata": {},
   "source": [
    "![\"plot\"](./plots/cont_45.png)"
   ]
  },
  {
   "cell_type": "markdown",
   "metadata": {},
   "source": [
    "We think that decresing the E value could result in the change of classification for this sample, because as we established before E has the highest feature importance and the the decrease of E indicates class 0.<br><br>\n",
    "By decreasing E to value = 0.33 (change of 0.67) we got a satisfying result: <br><br>\n",
    "![\"plot\"](./plots/45_init.png)<br><br>\n",
    "![\"plot\"](./plots/45_init_cont.png)"
   ]
  },
  {
   "cell_type": "markdown",
   "metadata": {},
   "source": [
    "By experimenting with the sample we found a minimal value that can be set, so that the classification chagnes. <br>The final minimal change is:<br>\n",
    "E = 0.39 (change of 0.61)<br>\n",
    "\n",
    "![\"plot\"](./plots/45_final.png)<br><br>\n",
    "![\"plot\"](./plots/45_final_cont.png)"
   ]
  },
  {
   "cell_type": "markdown",
   "metadata": {},
   "source": [
    "## Remarks\n"
   ]
  },
  {
   "cell_type": "markdown",
   "metadata": {},
   "source": [
    "The minimal changes do mostly agree with our theoretical predictions, although they are based on feature importance and not on our intuition when it comes to actuall data, but we can't really do that since the dataset does not contain column names therefore the values are just values to our mathemathical eyes (😊). <br> Thus we mainly focused on the contribution plot and feature importance in our theoretical changes."
   ]
  },
  {
   "cell_type": "markdown",
   "metadata": {},
   "source": [
    "## Model Interpretation"
   ]
  },
  {
   "cell_type": "markdown",
   "metadata": {},
   "source": [
    "### Criteria\n",
    "All of the criteria have an influence on the final classification. <br>\n",
    "\n",
    "All of the criteria are of gain type except for criterion F which is a cost criterion, in regards to class 1 prediction.<br>\n",
    "\n",
    "We also calculated a correlation matrix."
   ]
  },
  {
   "cell_type": "code",
   "execution_count": 16,
   "metadata": {},
   "outputs": [
    {
     "data": {
      "image/png": "[encoded data removed]",
      "text/plain": [
       "<Figure size 1000x800 with 2 Axes>"
      ]
     },
     "metadata": {},
     "output_type": "display_data"
    }
   ],
   "source": [
    "corr = df.corr()\n",
    "\n",
    "plt.figure(figsize=(10, 8))\n",
    "sns.heatmap(corr, annot=True, cmap='coolwarm')\n",
    "plt.title(\"Feature Correlation Matrix\")\n",
    "plt.show() "
   ]
  },
  {
   "cell_type": "markdown",
   "metadata": {},
   "source": [
    "We can see from the correlation matrix D and C seem to be the most correlated. <br>Also from this we can infer the correlations when it comes to determining the class. As we can see E is the most correlated while the least is F."
   ]
  },
  {
   "cell_type": "markdown",
   "metadata": {},
   "source": [
    "### Permutation feature importance\n",
    "![\"plot\"](./plots/perm_f_imp.png)"
   ]
  },
  {
   "cell_type": "markdown",
   "metadata": {},
   "source": [
    "Since the permutations are done randomly you will have a different plot if you run the dashboard, but this plot (so do the others) mostly correlate with our observations. Changing D and E, the most important features affects the roc_auc_score the most."
   ]
  },
  {
   "cell_type": "markdown",
   "metadata": {},
   "source": [
    "## NOTE\n",
    "We used explainerdashboard but for some (dependencies conflicting etc.) reason I didn't get it to work on my computer therefore if You want to see the dashboard yourself we added it as a .html file. <br>\n",
    "Also the .ipynb file is also contained within the project folder under the name project3_dashboard.ipynb."
   ]
  }
 ],
 "metadata": {
  "kernelspec": {
   "display_name": "Python 3",
   "language": "python",
   "name": "python3"
  },
  "language_info": {
   "codemirror_mode": {
    "name": "ipython",
    "version": 3
   },
   "file_extension": ".py",
   "mimetype": "text/x-python",
   "name": "python",
   "nbconvert_exporter": "python",
   "pygments_lexer": "ipython3",
   "version": "3.12.3"
  }
 },
 "nbformat": 4,
 "nbformat_minor": 2
}
